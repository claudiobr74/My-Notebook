{
 "cells": [
  {
   "cell_type": "markdown",
   "id": "49c766ec-1f66-47c4-9490-74f923424b93",
   "metadata": {},
   "source": [
    "# My Jupyter Notebook on IBM Watson Studio"
   ]
  },
  {
   "cell_type": "markdown",
   "id": "a30d45ee-5da3-4764-bb8a-8162513dcc91",
   "metadata": {},
   "source": [
    "**Cláudio Márcio Macedo**"
   ]
  },
  {
   "cell_type": "markdown",
   "id": "7121338f-0f52-4193-8b5d-5a8af06a900d",
   "metadata": {},
   "source": [
    "*I am interested in data science because I'm very courious and love to learn new stuff.*"
   ]
  },
  {
   "cell_type": "markdown",
   "id": "d693d956-f563-443c-b086-e9bf425e33c6",
   "metadata": {},
   "source": [
    "### The below should print \"Olá Mundo!\" ###"
   ]
  },
  {
   "cell_type": "code",
   "execution_count": 1,
   "id": "7d786db7-37d9-4c73-9a1f-ce9531dbed64",
   "metadata": {},
   "outputs": [
    {
     "name": "stdout",
     "output_type": "stream",
     "text": [
      "Olá Mundo!\n"
     ]
    }
   ],
   "source": [
    "print(\"Olá Mundo!\")"
   ]
  },
  {
   "cell_type": "markdown",
   "id": "d44b5496-6bec-4994-9141-2a7b3de6214f",
   "metadata": {},
   "source": [
    "-  Família\n",
    "| Id | Name | Age |\n",
    "|----|------|-----|\n",
    "| 01 | Claudio | 48 |\n",
    "| 02 | Virginia | 42 |\n",
    "| 03 | Sofia | 27 |\n",
    "| 04 | Maria | 20 |\n"
   ]
  },
  {
   "cell_type": "code",
   "execution_count": null,
   "id": "f8a3350b-7701-4bfc-a5f7-25cbadf0915a",
   "metadata": {},
   "outputs": [],
   "source": []
  }
 ],
 "metadata": {
  "kernelspec": {
   "display_name": "Python",
   "language": "python",
   "name": "conda-env-python-py"
  },
  "language_info": {
   "codemirror_mode": {
    "name": "ipython",
    "version": 3
   },
   "file_extension": ".py",
   "mimetype": "text/x-python",
   "name": "python",
   "nbconvert_exporter": "python",
   "pygments_lexer": "ipython3",
   "version": "3.7.12"
  }
 },
 "nbformat": 4,
 "nbformat_minor": 5
}
